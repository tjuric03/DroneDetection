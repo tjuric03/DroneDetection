{
  "nbformat": 4,
  "nbformat_minor": 0,
  "metadata": {
    "colab": {
      "name": "YOLOv4Resume.ipynb",
      "provenance": [],
      "collapsed_sections": []
    },
    "kernelspec": {
      "name": "python3",
      "display_name": "Python 3"
    },
    "language_info": {
      "name": "python"
    }
  },
  "cells": [
    {
      "cell_type": "markdown",
      "source": [
        "# YOLOv4 Resume training"
      ],
      "metadata": {
        "id": "Xx_41hA0kv4w"
      }
    },
    {
      "cell_type": "code",
      "source": [
        "import os\n",
        "import shutil\n",
        "import time\n",
        "from google.colab import drive\n",
        "from glob import glob\n",
        "import numpy as np\n",
        "import pandas as pd"
      ],
      "metadata": {
        "id": "sH2V3WBUj52v"
      },
      "execution_count": null,
      "outputs": []
    },
    {
      "cell_type": "code",
      "execution_count": null,
      "metadata": {
        "id": "lMuFCm1MIUQO"
      },
      "outputs": [],
      "source": [
        "!nvidia-smi"
      ]
    },
    {
      "cell_type": "code",
      "source": [
        "drive.mount(\"/content/drive\")"
      ],
      "metadata": {
        "id": "M4sX36XLOb9C"
      },
      "execution_count": null,
      "outputs": []
    },
    {
      "cell_type": "markdown",
      "source": [
        "##Cloning repositories"
      ],
      "metadata": {
        "id": "HTL8UhAoSC-X"
      }
    },
    {
      "cell_type": "code",
      "source": [
        "!git clone https://github.com/tjuric03/DroneDetection\n",
        "!git clone https://github.com/AlexeyAB/darknet"
      ],
      "metadata": {
        "id": "AHwE9UomIp7a"
      },
      "execution_count": null,
      "outputs": []
    },
    {
      "cell_type": "code",
      "source": [
        "%cd darknet"
      ],
      "metadata": {
        "id": "D2a_2spzJlGN"
      },
      "execution_count": null,
      "outputs": []
    },
    {
      "cell_type": "markdown",
      "source": [
        "##Installing dependencies"
      ],
      "metadata": {
        "id": "RrQOw3jRSKmc"
      }
    },
    {
      "cell_type": "code",
      "source": [
        "!apt install libopencv-dev python-opencv ffmpeg"
      ],
      "metadata": {
        "id": "w3laQTCdKjzJ"
      },
      "execution_count": null,
      "outputs": []
    },
    {
      "cell_type": "markdown",
      "source": [
        "##Building darknet"
      ],
      "metadata": {
        "id": "qjv22_wbSOxv"
      }
    },
    {
      "cell_type": "code",
      "source": [
        "!sed -i 's/OPENCV=0/OPENCV=1/g' Makefile\n",
        "!sed -i 's/GPU=0/GPU=1/g' Makefile\n",
        "!sed -i 's/CUDNN_HALF=0/CUDNN_HALF=1/g' Makefile\n",
        "!sed -i 's/CUDNN=0/CUDNN=1/g' Makefile\n",
        "\n",
        "!make"
      ],
      "metadata": {
        "id": "DAtaCGtPKr2_"
      },
      "execution_count": null,
      "outputs": []
    },
    {
      "cell_type": "markdown",
      "source": [
        "# Loading training files"
      ],
      "metadata": {
        "id": "u0JjHGRIlZ7D"
      }
    },
    {
      "cell_type": "code",
      "source": [
        "# CHANGE THIS TO DESIRED ITERATION\n",
        "# =============================================\n",
        "RESUME_DIR_NAME = \"training_20220402-121242\"\n",
        "# =============================================\n",
        "DRIVE_TRAINING_PATH = f\"/content/drive/MyDrive/{RESUME_DIR_NAME}\"\n",
        "TRAINING_DIR_PATH = f\"./training/{RESUME_DIR_NAME}\"\n",
        "\n",
        "!cp DRIVE_TRAINING_PATH TRAINING_DIR_PATH"
      ],
      "metadata": {
        "id": "1fmJdOW6lakh"
      },
      "execution_count": null,
      "outputs": []
    },
    {
      "cell_type": "code",
      "source": [
        "!./darknet detector train \"{TRAINING_DIR_PATH}/obj.data\" {TRAINING_CONFIG_PATH} \"{DRIVE_TRAINING_PATH}/yolov4-tiny-4class_last.weights\" -dont_show | tee -a \"{DRIVE_TRAINING_PATH}/logs.txt\""
      ],
      "metadata": {
        "id": "7wY_ihQHmimZ"
      },
      "execution_count": null,
      "outputs": []
    }
  ]
}