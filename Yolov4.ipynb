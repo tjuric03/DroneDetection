{
  "nbformat": 4,
  "nbformat_minor": 0,
  "metadata": {
    "colab": {
      "name": "Copy of DroneDetection.ipynb",
      "provenance": [],
      "collapsed_sections": [],
      "private_outputs": true
    },
    "kernelspec": {
      "name": "python3",
      "display_name": "Python 3"
    },
    "language_info": {
      "name": "python"
    },
    "accelerator": "GPU"
  },
  "cells": [
    {
      "cell_type": "markdown",
      "source": [
        "#YOLOv4 Drone detection"
      ],
      "metadata": {
        "id": "oYtESXfBRwXJ"
      }
    },
    {
      "cell_type": "code",
      "source": [
        "import os\n",
        "import shutil\n",
        "import time\n",
        "from google.colab import drive\n",
        "from glob import glob\n",
        "import numpy as np\n",
        "import pandas as pd"
      ],
      "metadata": {
        "id": "sH2V3WBUj52v"
      },
      "execution_count": null,
      "outputs": []
    },
    {
      "cell_type": "code",
      "execution_count": null,
      "metadata": {
        "id": "lMuFCm1MIUQO"
      },
      "outputs": [],
      "source": [
        "!nvidia-smi"
      ]
    },
    {
      "cell_type": "code",
      "source": [
        "drive.mount(\"/content/drive\")"
      ],
      "metadata": {
        "id": "M4sX36XLOb9C"
      },
      "execution_count": null,
      "outputs": []
    },
    {
      "cell_type": "markdown",
      "source": [
        "##Cloning repositories"
      ],
      "metadata": {
        "id": "HTL8UhAoSC-X"
      }
    },
    {
      "cell_type": "code",
      "source": [
        "!git clone https://github.com/tjuric03/DroneDetection\n",
        "!git clone https://github.com/AlexeyAB/darknet"
      ],
      "metadata": {
        "id": "AHwE9UomIp7a"
      },
      "execution_count": null,
      "outputs": []
    },
    {
      "cell_type": "code",
      "source": [
        "%cd darknet"
      ],
      "metadata": {
        "id": "D2a_2spzJlGN"
      },
      "execution_count": null,
      "outputs": []
    },
    {
      "cell_type": "markdown",
      "source": [
        "##Installing dependencies"
      ],
      "metadata": {
        "id": "RrQOw3jRSKmc"
      }
    },
    {
      "cell_type": "code",
      "source": [
        "!apt install libopencv-dev python-opencv ffmpeg"
      ],
      "metadata": {
        "id": "w3laQTCdKjzJ"
      },
      "execution_count": null,
      "outputs": []
    },
    {
      "cell_type": "markdown",
      "source": [
        "##Building darknet"
      ],
      "metadata": {
        "id": "qjv22_wbSOxv"
      }
    },
    {
      "cell_type": "code",
      "source": [
        "!sed -i 's/OPENCV=0/OPENCV=1/g' Makefile\n",
        "!sed -i 's/GPU=0/GPU=1/g' Makefile\n",
        "!sed -i 's/CUDNN_HALF=0/CUDNN_HALF=1/g' Makefile\n",
        "!sed -i 's/CUDNN=0/CUDNN=1/g' Makefile\n",
        "\n",
        "!make"
      ],
      "metadata": {
        "id": "DAtaCGtPKr2_"
      },
      "execution_count": null,
      "outputs": []
    },
    {
      "cell_type": "markdown",
      "source": [
        "##Downloading weights"
      ],
      "metadata": {
        "id": "pG1Bo-g6SyHR"
      }
    },
    {
      "cell_type": "code",
      "source": [
        "!wget https://github.com/AlexeyAB/darknet/releases/download/darknet_yolo_v3_optimal/yolov4.weights\n",
        "!wget https://github.com/AlexeyAB/darknet/releases/download/darknet_yolo_v4_pre/yolov4-tiny.weights"
      ],
      "metadata": {
        "id": "xqwStZekK4gf"
      },
      "execution_count": null,
      "outputs": []
    },
    {
      "cell_type": "markdown",
      "source": [
        "#Training YOLOv4-tiny model"
      ],
      "metadata": {
        "id": "9weMK-6ITZrt"
      }
    },
    {
      "cell_type": "markdown",
      "source": [
        "## Creating training directory"
      ],
      "metadata": {
        "id": "SdfMH-GL6jvV"
      }
    },
    {
      "cell_type": "code",
      "source": [
        "TRAINING_TIME = time.strftime(\"%Y%m%d-%H%M%S\")\n",
        "\n",
        "TRAINING_DIR_PATH = \"training_\" + TRAINING_TIME\n",
        "os.mkdir(TRAINING_DIR_PATH)"
      ],
      "metadata": {
        "id": "eYxWIpnM6hhg"
      },
      "execution_count": null,
      "outputs": []
    },
    {
      "cell_type": "markdown",
      "source": [
        "## Generate .cfg file"
      ],
      "metadata": {
        "id": "vPfpqMb4a-FU"
      }
    },
    {
      "cell_type": "code",
      "source": [
        "CFG_MODEL_NAME = \"yolov4-tiny-4class.cfg\"\n",
        "\n",
        "TINY_WEIGHTS_PATH = \"yolov4-tiny.weights\"\n",
        "BASE_CONFIG_PATH = \"cfg/yolov4-tiny-custom.cfg\"\n",
        "TINY_WEIGHTS_29_PATH = f\"{TRAINING_DIR_PATH}/yolov4-tiny.conv.29\"\n",
        "TRAINING_CONFIG_PATH = f\"{TRAINING_DIR_PATH}/{CFG_MODEL_NAME}\""
      ],
      "metadata": {
        "id": "hJm_-anBpE2q"
      },
      "execution_count": null,
      "outputs": []
    },
    {
      "cell_type": "code",
      "source": [
        "!./darknet partial {BASE_CONFIG_PATH} {TINY_WEIGHTS_PATH} {TINY_WEIGHTS_29_PATH} 29"
      ],
      "metadata": {
        "id": "Hll5VhexYFPQ"
      },
      "execution_count": null,
      "outputs": []
    },
    {
      "cell_type": "code",
      "source": [
        "!cp {BASE_CONFIG_PATH} {TRAINING_CONFIG_PATH}"
      ],
      "metadata": {
        "id": "8XFwYgaTTfBG"
      },
      "execution_count": null,
      "outputs": []
    },
    {
      "cell_type": "code",
      "source": [
        "NUMBER_OF_CLASSES = 4\n",
        "BATCH_SIZE = 64\n",
        "SUBDIVISIONS = 4\n",
        "MAX_BATCHES = max(6000, NUMBER_OF_CLASSES * 2000)\n",
        "STEP1 =  int(0.8 * MAX_BATCHES)\n",
        "STEP2 = int(0.9 * MAX_BATCHES)\n",
        "WIDTH = 416\n",
        "HEIGHT = 416\n",
        "RANDOM = 1\n",
        "\n",
        "\n",
        "!sed -i 's/^classes=.*/classes={NUMBER_OF_CLASSES}/g' {TRAINING_CONFIG_PATH}\n",
        "!sed -i 's/^batch=.*/batch={BATCH_SIZE}/g' {TRAINING_CONFIG_PATH}\n",
        "!sed -i 's/^subdivisions=.*/subdivisions={SUBDIVISIONS}/g' {TRAINING_CONFIG_PATH}\n",
        "!sed -i 's/^max_batches.*/max_batches={MAX_BATCHES}/g' {TRAINING_CONFIG_PATH}\n",
        "!sed -i 's/^steps=.*/steps={STEP1},{STEP2}/g' {TRAINING_CONFIG_PATH}\n",
        "!sed -i 's/^width=.*/width={WIDTH}/g' {TRAINING_CONFIG_PATH}\n",
        "!sed -i 's/^height=.*/height={HEIGHT}/g' {TRAINING_CONFIG_PATH}\n",
        "!sed -i 's/^random=.*/random={RANDOM}/g' {TRAINING_CONFIG_PATH}\n",
        "\n",
        "#NOTE: MUST CHANGE filters=(classes+5)x3 in each convolutional layer before yolo MANUALLY"
      ],
      "metadata": {
        "id": "8R7cL1WPbNDr"
      },
      "execution_count": null,
      "outputs": []
    },
    {
      "cell_type": "markdown",
      "source": [
        "## Load config"
      ],
      "metadata": {
        "id": "DYn5m6jqiksz"
      }
    },
    {
      "cell_type": "code",
      "source": [
        "LOAD_CONFIG_NAME = \"yolov4-tiny-4class.cfg\"\n",
        "CONFIGS_PATH = \"/content/drive/MyDrive/training/Configs/\"\n",
        "CONFIG_LOAD_PATH = CONFIGS_PATH + LOAD_CONFIG_NAME\n",
        "\n",
        "if(os.path.exists(CONFIG_LOAD_PATH)):\n",
        "  print(f\"Replacing config at path {TRAINING_CONFIG_PATH}\")\n",
        "  shutil.copyfile(CONFIG_LOAD_PATH,TRAINING_CONFIG_PATH)\n",
        "else:\n",
        "  print(f\"No config found at path {CONFIG_LOAD_PATH}\")"
      ],
      "metadata": {
        "id": "uGPjzhYSiaVe"
      },
      "execution_count": null,
      "outputs": []
    },
    {
      "cell_type": "code",
      "source": [
        "with open(f\"{TRAINING_DIR_PATH}/obj.names\", \"w\") as fp:\n",
        "    fp.write(\"\"\"drone\n",
        "bird\n",
        "plane\n",
        "heli\"\"\")\n",
        "\n",
        "DRIVE_TRAINING_PATH = \"/content/drive/MyDrive/training/\"+TRAINING_DIR_PATH\n",
        "if(not os.path.exists(DRIVE_TRAINING_PATH)):\n",
        "  os.mkdir(DRIVE_TRAINING_PATH)\n",
        "else:\n",
        "  print(f\"{DRIVE_TRAINING_PATH} already exists! Not creating it again\")\n",
        "\n",
        "with open(f\"{TRAINING_DIR_PATH}/obj.data\", \"w\") as fp:\n",
        "    fp.write(f\"\"\"classes = {NUMBER_OF_CLASSES}\n",
        "train  = {TRAINING_DIR_PATH}/train.txt\n",
        "valid  = {TRAINING_DIR_PATH}/test.txt\n",
        "names = {TRAINING_DIR_PATH}/obj.names\n",
        "backup = {DRIVE_TRAINING_PATH}\"\"\")"
      ],
      "metadata": {
        "id": "eRBx_IBVZSw5"
      },
      "execution_count": null,
      "outputs": []
    },
    {
      "cell_type": "code",
      "source": [
        "IMAGES_PATH = \"../DroneDetection/Data\""
      ],
      "metadata": {
        "id": "AiZK_TEK_JZD"
      },
      "execution_count": null,
      "outputs": []
    },
    {
      "cell_type": "markdown",
      "source": [
        "### Stratified sampling"
      ],
      "metadata": {
        "id": "Hu1xsOny8vWi"
      }
    },
    {
      "cell_type": "code",
      "source": [
        "from sklearn.model_selection import train_test_split\n",
        "\n",
        "images = pd.DataFrame(glob(f\"{IMAGES_PATH}/*/*.JPEG\"),columns=[\"image_path\"])\n",
        "\n",
        "images[\"type\"] = images.apply(lambda row: row[0].split(\"/\")[-2],axis=1)\n",
        "\n",
        "train, test = train_test_split(images,test_size=0.1,stratify=images[\"type\"])"
      ],
      "metadata": {
        "id": "FQPwD7tr1MIE"
      },
      "execution_count": null,
      "outputs": []
    },
    {
      "cell_type": "code",
      "source": [
        "train"
      ],
      "metadata": {
        "id": "nKbiqwFXBLkD"
      },
      "execution_count": null,
      "outputs": []
    },
    {
      "cell_type": "code",
      "source": [
        "train[\"image_path\"].to_csv(f\"{TRAINING_DIR_PATH}/train.txt\",index=False,header=False)\n",
        "test[\"image_path\"].to_csv(f\"{TRAINING_DIR_PATH}/test.txt\",index=False,header=False)"
      ],
      "metadata": {
        "id": "eUvP_yL29Cgn"
      },
      "execution_count": null,
      "outputs": []
    },
    {
      "cell_type": "markdown",
      "source": [
        "## Copy all the information needed for training to Drive"
      ],
      "metadata": {
        "id": "HXVJxNZND5Ck"
      }
    },
    {
      "cell_type": "code",
      "source": [
        "!cp -r \"{TRAINING_DIR_PATH}/.\" {DRIVE_TRAINING_PATH}"
      ],
      "metadata": {
        "id": "Zd59rYWNEBJl"
      },
      "execution_count": null,
      "outputs": []
    },
    {
      "cell_type": "markdown",
      "source": [
        "## Train command with logging directly to Drive"
      ],
      "metadata": {
        "id": "_C2M66PfEG7D"
      }
    },
    {
      "cell_type": "code",
      "source": [
        "!./darknet detector train \"{TRAINING_DIR_PATH}/obj.data\" {TRAINING_CONFIG_PATH} {TINY_WEIGHTS_29_PATH} -dont_show -map | tee -a \"{DRIVE_TRAINING_PATH}/logs.txt\"\n",
        "!cp chart.png {DRIVE_TRAINING_PATH}"
      ],
      "metadata": {
        "id": "SCoP_b1Cnua2"
      },
      "execution_count": null,
      "outputs": []
    },
    {
      "cell_type": "markdown",
      "source": [
        "## Resume training"
      ],
      "metadata": {
        "id": "z_TvKAEl0s64"
      }
    },
    {
      "cell_type": "code",
      "source": [
        "DRIVE_TRAINING_PATH"
      ],
      "metadata": {
        "id": "WX-niORM0_l5"
      },
      "execution_count": null,
      "outputs": []
    },
    {
      "cell_type": "code",
      "source": [
        "!./darknet detector train \"{TRAINING_DIR_PATH}/obj.data\" {TRAINING_CONFIG_PATH} \"{DRIVE_TRAINING_PATH}/yolov4-tiny-4class_last.weights\" -dont_show | tee -a \"{DRIVE_TRAINING_PATH}/logs.txt\""
      ],
      "metadata": {
        "id": "W93vdOO80vOa"
      },
      "execution_count": null,
      "outputs": []
    },
    {
      "cell_type": "markdown",
      "source": [
        "## Testing trained YOLOv4-tiny model"
      ],
      "metadata": {
        "id": "IPQtqL5TZTKL"
      }
    },
    {
      "cell_type": "code",
      "source": [
        "!./darknet detect cfg/yolov4.cfg yolov4.weights -thresh 0.25 data/spg3.jpg"
      ],
      "metadata": {
        "id": "xVSyswObPlW2"
      },
      "execution_count": null,
      "outputs": []
    },
    {
      "cell_type": "code",
      "source": [
        "from google.colab.patches import cv2_imshow\n",
        "#!curl -o logo.png https://colab.research.google.com/img/colab_favicon_256px.png\n",
        "import cv2\n",
        "img = cv2.imread('../DroneDetection/Data/Drone/drone_0.JPEG', cv2.IMREAD_UNCHANGED)\n",
        "cv2_imshow(img)"
      ],
      "metadata": {
        "id": "PXxL_7nhNCxD"
      },
      "execution_count": null,
      "outputs": []
    },
    {
      "cell_type": "code",
      "source": [
        "chart.png"
      ],
      "metadata": {
        "id": "Sf7t9MeYNOhy"
      },
      "execution_count": null,
      "outputs": []
    },
    {
      "cell_type": "code",
      "source": [
        ""
      ],
      "metadata": {
        "id": "6iBfbjmzxzKY"
      },
      "execution_count": null,
      "outputs": []
    }
  ]
}